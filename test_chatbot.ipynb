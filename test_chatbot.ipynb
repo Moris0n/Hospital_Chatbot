{
 "cells": [
  {
   "cell_type": "markdown",
   "id": "2aa2d508-b934-496e-8856-d40d8478a601",
   "metadata": {},
   "source": [
    "## test code part 1"
   ]
  },
  {
   "cell_type": "code",
   "execution_count": 1,
   "id": "da660043-1bc5-4e89-b21a-d500d57ffa0a",
   "metadata": {},
   "outputs": [],
   "source": [
    "from langchain.schema.messages import HumanMessage, SystemMessage\n",
    "from langchain_intro.chatbot import chat_model"
   ]
  },
  {
   "cell_type": "code",
   "execution_count": 2,
   "id": "125a0698-a539-4a2d-96d1-edac52a9e9b4",
   "metadata": {},
   "outputs": [],
   "source": [
    "messages = [\n",
    "    SystemMessage(\n",
    "        content=\"\"\"You're an assistant knowledgeable about\n",
    "        healthcare. Only answer healthcare-related questions.\"\"\"\n",
    "    ),\n",
    "    HumanMessage(content=\"What is Medicaid managed care?\"),\n",
    "]"
   ]
  },
  {
   "cell_type": "code",
   "execution_count": 3,
   "id": "589e8d17-63e6-4cc6-947f-a9373b994915",
   "metadata": {},
   "outputs": [
    {
     "data": {
      "text/plain": [
       "AIMessage(content='Medicaid managed care is a system in which state Medicaid programs contract with private health insurance companies to provide healthcare services to Medicaid beneficiaries. In this model, the managed care organizations (MCOs) are responsible for coordinating and delivering a range of healthcare services, including preventive care, hospital services, and specialty care, to enrolled members.\\n\\nKey features of Medicaid managed care include:\\n\\n1. **Care Coordination**: MCOs help coordinate care among various providers to ensure that beneficiaries receive appropriate and timely services.\\n\\n2. **Cost Control**: By managing the care provided to beneficiaries, MCOs aim to control costs and improve efficiency in the delivery of healthcare services.\\n\\n3. **Access to Services**: Beneficiaries typically have a network of providers from which to choose, and MCOs may offer additional services beyond what traditional Medicaid covers.\\n\\n4. **Quality Improvement**: Many MCOs implement programs to monitor and improve the quality of care provided to their members.\\n\\n5. **Risk Sharing**: MCOs assume financial risk for the care of their members, meaning they are incentivized to provide cost-effective care while maintaining quality.\\n\\nMedicaid managed care is designed to improve health outcomes for beneficiaries while managing costs for state Medicaid programs. Each state has its own rules and structures for Medicaid managed care, leading to variations in how the program is implemented.', response_metadata={'token_usage': {'completion_tokens': 271, 'prompt_tokens': 32, 'total_tokens': 303}, 'model_name': 'gpt-4o-mini', 'system_fingerprint': 'fp_48196bc67a', 'finish_reason': 'stop', 'logprobs': None}, id='run-b9f47800-1204-4c02-81f9-e63377c00648-0')"
      ]
     },
     "execution_count": 3,
     "metadata": {},
     "output_type": "execute_result"
    }
   ],
   "source": [
    "chat_model.invoke(messages)"
   ]
  },
  {
   "cell_type": "code",
   "execution_count": 4,
   "id": "057877d1-7784-4b3c-a386-8bbf05bc6deb",
   "metadata": {},
   "outputs": [
    {
     "data": {
      "text/plain": [
       "\"Human: Your job is to use patient\\nreviews to answer questions about their experience at a hospital.\\nUse the following context to answer questions. Be as detailed\\nas possible, but don't make up any information that's not\\nfrom the context. If you don't know an answer, say you don't know.\\n\\nI had a great stay!\\n\\nDid anyone have a positive experience?\\n\""
      ]
     },
     "execution_count": 4,
     "metadata": {},
     "output_type": "execute_result"
    }
   ],
   "source": [
    "from langchain.prompts import ChatPromptTemplate\n",
    "\n",
    "review_template_str = \"\"\"Your job is to use patient\n",
    "reviews to answer questions about their experience at a hospital.\n",
    "Use the following context to answer questions. Be as detailed\n",
    "as possible, but don't make up any information that's not\n",
    "from the context. If you don't know an answer, say you don't know.\n",
    "\n",
    "{context}\n",
    "\n",
    "{question}\n",
    "\"\"\"\n",
    "\n",
    "review_template = ChatPromptTemplate.from_template(review_template_str)\n",
    "\n",
    "context = \"I had a great stay!\"\n",
    "question = \"Did anyone have a positive experience?\"\n",
    "\n",
    "review_template.format(context=context, question=question)"
   ]
  },
  {
   "cell_type": "code",
   "execution_count": 5,
   "id": "e9e1947c-74b4-482f-b93e-27b500fb0e31",
   "metadata": {},
   "outputs": [
    {
     "data": {
      "text/plain": [
       "[SystemMessage(content=\"Your job is to use patient\\nreviews to answer questions about their experience at a\\nhospital. Use the following context to answer questions.\\nBe as detailed as possible, but don't make up any information\\nthat's not from the context. If you don't know an answer, say\\nyou don't know.\\n\\nI had a great stay!\\n\"),\n",
       " HumanMessage(content='Did anyone have a positive experience?')]"
      ]
     },
     "execution_count": 5,
     "metadata": {},
     "output_type": "execute_result"
    }
   ],
   "source": [
    "from langchain.prompts import (\n",
    "    PromptTemplate,\n",
    "    SystemMessagePromptTemplate,\n",
    "    HumanMessagePromptTemplate,\n",
    "    ChatPromptTemplate,\n",
    ")\n",
    "\n",
    "review_system_template_str = \"\"\"Your job is to use patient\n",
    "reviews to answer questions about their experience at a\n",
    "hospital. Use the following context to answer questions.\n",
    "Be as detailed as possible, but don't make up any information\n",
    "that's not from the context. If you don't know an answer, say\n",
    "you don't know.\n",
    "\n",
    "{context}\n",
    "\"\"\"\n",
    "\n",
    "review_system_prompt = SystemMessagePromptTemplate(\n",
    "    prompt=PromptTemplate(\n",
    "        input_variables=[\"context\"], template=review_system_template_str\n",
    "    )\n",
    ")\n",
    "\n",
    "review_human_prompt = HumanMessagePromptTemplate(\n",
    "    prompt=PromptTemplate(\n",
    "        input_variables=[\"question\"], template=\"{question}\"\n",
    "    )\n",
    ")\n",
    "\n",
    "messages = [review_system_prompt, review_human_prompt]\n",
    "review_prompt_template = ChatPromptTemplate(\n",
    "    input_variables=[\"context\", \"question\"],\n",
    "    messages=messages,\n",
    ")\n",
    "context = \"I had a great stay!\"\n",
    "question = \"Did anyone have a positive experience?\"\n",
    "\n",
    "review_prompt_template.format_messages(context=context, question=question)"
   ]
  },
  {
   "cell_type": "markdown",
   "id": "310aa6bb-7a84-411c-93ac-71d8c9601076",
   "metadata": {},
   "source": [
    "## test code part 2"
   ]
  },
  {
   "cell_type": "code",
   "execution_count": 1,
   "id": "54bbac65-f0ea-4ca4-9dbc-7159c57a7828",
   "metadata": {},
   "outputs": [
    {
     "data": {
      "text/plain": [
       "AIMessage(content='Yes, one patient mentioned that they had a great stay at the hospital, indicating a positive experience.', response_metadata={'token_usage': {'completion_tokens': 20, 'prompt_tokens': 83, 'total_tokens': 103}, 'model_name': 'gpt-4o-mini', 'system_fingerprint': 'fp_48196bc67a', 'finish_reason': 'stop', 'logprobs': None}, id='run-9e440f5f-9648-454b-b1c7-1f4e99719b65-0')"
      ]
     },
     "execution_count": 1,
     "metadata": {},
     "output_type": "execute_result"
    }
   ],
   "source": [
    "from langchain_intro.chatbot import review_chain\n",
    "\n",
    "context = \"I had a great stay!\"\n",
    "question = \"Did anyone have a positive experience?\"\n",
    "\n",
    "review_chain.invoke({\"context\": context, \"question\": question})"
   ]
  },
  {
   "cell_type": "markdown",
   "id": "86a59f0a-c027-4959-a54e-fc472f3a809f",
   "metadata": {},
   "source": [
    "## test code 3"
   ]
  },
  {
   "cell_type": "code",
   "execution_count": 7,
   "id": "00bf32f1-ca2e-498f-bb78-1e027953d1d4",
   "metadata": {},
   "outputs": [
    {
     "name": "stderr",
     "output_type": "stream",
     "text": [
      "/tmp/ipykernel_39216/763999832.py:21: DeprecationWarning: The 'http_auth' parameter is deprecated. Use 'basic_auth' or 'bearer_auth' parameters instead\n",
      "  es_client = Elasticsearch(\n"
     ]
    }
   ],
   "source": [
    "import pandas as pd\n",
    "from uuid import uuid4\n",
    "\n",
    "from langchain_elasticsearch import ElasticsearchStore\n",
    "from langchain_core.documents import Document\n",
    "from elasticsearch import Elasticsearch\n",
    "\n",
    "import os\n",
    "import dotenv\n",
    "import sentence_transformers\n",
    "\n",
    "dotenv.load_dotenv(encoding='utf-8')\n",
    "\n",
    "# File paths and other configurations\n",
    "REVIEWS_CSV_PATH = \"data/reviews.csv\"\n",
    "ELASTICSEARCH_URL = \"http://localhost:9200\"\n",
    "INDEX_NAME = \"reviews_index\"\n",
    "\n",
    "# Delete the index if exists\n",
    "# Initialize Elasticsearch client\n",
    "es_client = Elasticsearch(\n",
    "    hosts=[ELASTICSEARCH_URL],  \n",
    "    http_auth=(\"elastic\", \"changeme\")  \n",
    ")\n",
    "\n",
    "# Check if the index exists, and delete it if it does\n",
    "es_client.indices.delete(index=INDEX_NAME, ignore_unavailable=True)\n",
    "\n",
    "# Load CSV data with pandas, ensuring UTF-8 encoding\n",
    "df = pd.read_csv(REVIEWS_CSV_PATH, encoding='utf-8')\n",
    "\n",
    "# Configure ElasticsearchStore (OpenAI embedding is too big )\n",
    "elastic_vector_search = ElasticsearchStore(\n",
    "    es_url=ELASTICSEARCH_URL,\n",
    "    index_name=INDEX_NAME,\n",
    "    es_user=\"elastic\",\n",
    "    es_password=\"changeme\",\n",
    "    strategy=ElasticsearchStore.ApproxRetrievalStrategy(\n",
    "        query_model_id=\"sentence_transformers/all-MiniLM-L6-v2\"\n",
    "    ),\n",
    ")\n",
    "\n",
    "# Function to create documents with UUID, content, and metadata\n",
    "def create_documents(df):\n",
    "    # Create Document objects\n",
    "    documents = []\n",
    "    uuids = []\n",
    "\n",
    "    for _, row in df.iterrows():\n",
    "        doc_id = str(uuid4())\n",
    "        documents.append(Document(\n",
    "            page_content=row[\"review\"],  # Use the \"review\" column for content\n",
    "            metadata={\n",
    "                \"review_id\": row[\"review_id\"],\n",
    "                \"visit_id\": row[\"visit_id\"],\n",
    "                \"physician_name\": row[\"physician_name\"],\n",
    "                \"hospital_name\": row[\"hospital_name\"],\n",
    "                \"patient_name\": row[\"patient_name\"]\n",
    "            }\n",
    "        ))\n",
    "        uuids.append(doc_id)\n",
    "\n",
    "    return documents, uuids"
   ]
  },
  {
   "cell_type": "code",
   "execution_count": 8,
   "id": "5f1d7a23-723e-4302-ad2f-92de2edaf9fe",
   "metadata": {},
   "outputs": [
    {
     "name": "stdout",
     "output_type": "stream",
     "text": [
      "An error occurred: NotFoundError(404, 'resource_not_found_exception', 'Could not find trained model [sentence_transformers/all-MiniLM-L6-v2]')\n"
     ]
    }
   ],
   "source": [
    "# Create a list of documents from the DataFrame\n",
    "documents, uuids = create_documents(df)\n",
    "\n",
    "try:\n",
    "    elastic_vector_search.add_documents(documents=documents, ids=uuids,)\n",
    "    print(\"Documents have been indexed successfully.\")\n",
    "except Exception as e:\n",
    "    print(f\"An error occurred: {e}\")\n"
   ]
  },
  {
   "cell_type": "code",
   "execution_count": 43,
   "id": "d6d4d14c-7cb7-49c1-bcf2-c975272fdc16",
   "metadata": {},
   "outputs": [],
   "source": [
    "from uuid import uuid4\n",
    "from langchain_openai import OpenAIEmbeddings\n",
    "from langchain_elasticsearch import ElasticsearchStore\n",
    "from langchain_core.documents import Document\n",
    "from elasticsearch import Elasticsearch\n",
    "\n",
    "\n",
    "\n",
    "ELASTICSEARCH_URL = \"http://localhost:9200\"\n",
    "INDEX_NAME = \"langchain_index\"\n",
    "\n",
    "# Initialize OpenAI embeddings\n",
    "embeddings = OpenAIEmbeddings(model=\"text-embedding-3-small\")\n",
    "\n",
    "# Configure ElasticsearchStore\n",
    "elastic_vector_search = ElasticsearchStore(\n",
    "    es_url=ELASTICSEARCH_URL,\n",
    "    index_name=INDEX_NAME,\n",
    "    #embedding=embeddings,\n",
    "    es_user=\"elastic\",\n",
    "    es_password=\"changeme\",\n",
    "    strategy=ElasticsearchStore.ApproxRetrievalStrategy(\n",
    "        query_model_id=\"sentence-transformers__all-minilm-l6-v2\"\n",
    "    ),\n",
    "    )\n",
    "\n",
    "\n",
    "\n",
    "# Create Document objects\n",
    "documents = []\n",
    "uuids = []\n",
    "\n",
    "for _, row in df.iterrows():\n",
    "    doc_id = str(uuid4())\n",
    "    documents.append(Document(\n",
    "        page_content=row[\"review\"],  # Use the \"review\" column for content\n",
    "        metadata={\n",
    "            \"review_id\": row[\"review_id\"],\n",
    "            \"visit_id\": row[\"visit_id\"],\n",
    "            \"physician_name\": row[\"physician_name\"],\n",
    "            \"hospital_name\": row[\"hospital_name\"],\n",
    "            \"patient_name\": row[\"patient_name\"]\n",
    "        }\n",
    "    ))\n",
    "    uuids.append(doc_id)\n",
    "\n",
    "results = elastic_vector_search.add_documents(documents=documents, ids=uuids)\n"
   ]
  },
  {
   "cell_type": "code",
   "execution_count": null,
   "id": "507c7faa-e86d-4cec-a169-98a44a48a0b7",
   "metadata": {},
   "outputs": [],
   "source": [
    "# Create a list of documents from the DataFrame\n",
    "documents, uuids = create_documents(df)\n",
    "\n",
    "try:\n",
    "    elastic_vector_search.add_documents(documents=documents, ids=uuids,)\n",
    "    print(\"Documents have been indexed successfully.\")\n",
    "except Exception as e:\n",
    "    print(f\"An error occurred: {e}\")"
   ]
  },
  {
   "cell_type": "code",
   "execution_count": 40,
   "id": "c49ad52f-162a-4449-9a73-13cdb336416f",
   "metadata": {},
   "outputs": [
    {
     "name": "stdout",
     "output_type": "stream",
     "text": [
      "500 document(s) failed to index.\n"
     ]
    }
   ],
   "source": [
    "import logging\n",
    "\n",
    "logging.basicConfig(filename='elasticsearch_errors.log', level=logging.ERROR)\n",
    "\n",
    "try:\n",
    "    results = elastic_vector_search.add_documents(documents=documents, ids=uuids)\n",
    "    print(\"Documents have been indexed successfully.\")\n",
    "except Exception as e:\n",
    "    logging.error(f\"An error occurred: {str(e)}\", exc_info=True)\n",
    "    if hasattr(e, 'errors'):\n",
    "        for error in e.errors:\n",
    "            logging.error(error)\n"
   ]
  },
  {
   "cell_type": "code",
   "execution_count": 3,
   "id": "f463ee8a-5e79-491d-a8bd-a658315a0c6f",
   "metadata": {},
   "outputs": [
    {
     "name": "stdout",
     "output_type": "stream",
     "text": [
      "There are 0 indexes in Elasticsearch.\n"
     ]
    },
    {
     "name": "stderr",
     "output_type": "stream",
     "text": [
      "/tmp/ipykernel_39216/2318990140.py:4: DeprecationWarning: The 'http_auth' parameter is deprecated. Use 'basic_auth' or 'bearer_auth' parameters instead\n",
      "  es_client = Elasticsearch(\n"
     ]
    }
   ],
   "source": [
    "from elasticsearch import Elasticsearch\n",
    "\n",
    "# Set up the connection to Elasticsearch\n",
    "es_client = Elasticsearch(\n",
    "    hosts=[\"http://localhost:9200\"],  # Replace with your Elasticsearch host\n",
    "    http_auth=(\"elastic\", \"changeme\")  # Replace with your username and password if necessary\n",
    ")\n",
    "\n",
    "# Get the list of all indexes\n",
    "indexes = es_client.indices.get_alias(index=\"*\")\n",
    "\n",
    "# Get the total number of indexes\n",
    "num_indexes = len(indexes)\n",
    "\n",
    "print(f\"There are {num_indexes} indexes in Elasticsearch.\")\n",
    "\n",
    "# Optionally, you can print out the names of all indexes\n",
    "for index_name in indexes:\n",
    "    print(index_name)\n"
   ]
  },
  {
   "cell_type": "code",
   "execution_count": 4,
   "id": "4538a2a0-ac92-428a-8fca-a08e1cebf26d",
   "metadata": {},
   "outputs": [
    {
     "data": {
      "text/plain": [
       "ObjectApiResponse({'acknowledged': True})"
      ]
     },
     "execution_count": 4,
     "metadata": {},
     "output_type": "execute_result"
    }
   ],
   "source": [
    "es_client.indices.delete(index=INDEX_NAME, ignore_unavailable=True)"
   ]
  },
  {
   "cell_type": "code",
   "execution_count": null,
   "id": "cad03858-5fac-4459-b8f2-c4459cff9dd0",
   "metadata": {},
   "outputs": [],
   "source": []
  }
 ],
 "metadata": {
  "kernelspec": {
   "display_name": "Python 3 (ipykernel)",
   "language": "python",
   "name": "python3"
  },
  "language_info": {
   "codemirror_mode": {
    "name": "ipython",
    "version": 3
   },
   "file_extension": ".py",
   "mimetype": "text/x-python",
   "name": "python",
   "nbconvert_exporter": "python",
   "pygments_lexer": "ipython3",
   "version": "3.10.13"
  }
 },
 "nbformat": 4,
 "nbformat_minor": 5
}
