{
 "cells": [
  {
   "cell_type": "markdown",
   "id": "2aa2d508-b934-496e-8856-d40d8478a601",
   "metadata": {},
   "source": [
    "## test code part 1"
   ]
  },
  {
   "cell_type": "code",
   "execution_count": 1,
   "id": "da660043-1bc5-4e89-b21a-d500d57ffa0a",
   "metadata": {},
   "outputs": [],
   "source": [
    "from langchain.schema.messages import HumanMessage, SystemMessage\n",
    "from langchain_intro.chatbot import chat_model"
   ]
  },
  {
   "cell_type": "code",
   "execution_count": 2,
   "id": "125a0698-a539-4a2d-96d1-edac52a9e9b4",
   "metadata": {},
   "outputs": [],
   "source": [
    "messages = [\n",
    "    SystemMessage(\n",
    "        content=\"\"\"You're an assistant knowledgeable about\n",
    "        healthcare. Only answer healthcare-related questions.\"\"\"\n",
    "    ),\n",
    "    HumanMessage(content=\"What is Medicaid managed care?\"),\n",
    "]"
   ]
  },
  {
   "cell_type": "code",
   "execution_count": 3,
   "id": "589e8d17-63e6-4cc6-947f-a9373b994915",
   "metadata": {},
   "outputs": [
    {
     "data": {
      "text/plain": [
       "AIMessage(content='Medicaid managed care is a system in which state Medicaid programs contract with private health insurance companies to provide healthcare services to Medicaid beneficiaries. In this model, the managed care organizations (MCOs) are responsible for coordinating and delivering a range of healthcare services, including preventive care, hospital services, and specialty care, to enrolled members.\\n\\nKey features of Medicaid managed care include:\\n\\n1. **Care Coordination**: MCOs help coordinate care among various providers to ensure that beneficiaries receive appropriate and timely services.\\n\\n2. **Cost Control**: By managing the care provided to beneficiaries, MCOs aim to control costs and improve efficiency in the delivery of healthcare services.\\n\\n3. **Access to Services**: Beneficiaries typically have a network of providers from which to choose, and MCOs may offer additional services beyond what traditional Medicaid covers.\\n\\n4. **Quality Improvement**: Many MCOs implement programs to monitor and improve the quality of care provided to their members.\\n\\n5. **Risk Sharing**: MCOs assume financial risk for the care of their members, meaning they are incentivized to provide cost-effective care while maintaining quality.\\n\\nMedicaid managed care is designed to improve health outcomes for beneficiaries while managing costs for state Medicaid programs. Each state has its own rules and structures for Medicaid managed care, leading to variations in how the program is implemented.', response_metadata={'token_usage': {'completion_tokens': 271, 'prompt_tokens': 32, 'total_tokens': 303}, 'model_name': 'gpt-4o-mini', 'system_fingerprint': 'fp_48196bc67a', 'finish_reason': 'stop', 'logprobs': None}, id='run-b9f47800-1204-4c02-81f9-e63377c00648-0')"
      ]
     },
     "execution_count": 3,
     "metadata": {},
     "output_type": "execute_result"
    }
   ],
   "source": [
    "chat_model.invoke(messages)"
   ]
  },
  {
   "cell_type": "code",
   "execution_count": 4,
   "id": "057877d1-7784-4b3c-a386-8bbf05bc6deb",
   "metadata": {},
   "outputs": [
    {
     "data": {
      "text/plain": [
       "\"Human: Your job is to use patient\\nreviews to answer questions about their experience at a hospital.\\nUse the following context to answer questions. Be as detailed\\nas possible, but don't make up any information that's not\\nfrom the context. If you don't know an answer, say you don't know.\\n\\nI had a great stay!\\n\\nDid anyone have a positive experience?\\n\""
      ]
     },
     "execution_count": 4,
     "metadata": {},
     "output_type": "execute_result"
    }
   ],
   "source": [
    "from langchain.prompts import ChatPromptTemplate\n",
    "\n",
    "review_template_str = \"\"\"Your job is to use patient\n",
    "reviews to answer questions about their experience at a hospital.\n",
    "Use the following context to answer questions. Be as detailed\n",
    "as possible, but don't make up any information that's not\n",
    "from the context. If you don't know an answer, say you don't know.\n",
    "\n",
    "{context}\n",
    "\n",
    "{question}\n",
    "\"\"\"\n",
    "\n",
    "review_template = ChatPromptTemplate.from_template(review_template_str)\n",
    "\n",
    "context = \"I had a great stay!\"\n",
    "question = \"Did anyone have a positive experience?\"\n",
    "\n",
    "review_template.format(context=context, question=question)"
   ]
  },
  {
   "cell_type": "code",
   "execution_count": 5,
   "id": "e9e1947c-74b4-482f-b93e-27b500fb0e31",
   "metadata": {},
   "outputs": [
    {
     "data": {
      "text/plain": [
       "[SystemMessage(content=\"Your job is to use patient\\nreviews to answer questions about their experience at a\\nhospital. Use the following context to answer questions.\\nBe as detailed as possible, but don't make up any information\\nthat's not from the context. If you don't know an answer, say\\nyou don't know.\\n\\nI had a great stay!\\n\"),\n",
       " HumanMessage(content='Did anyone have a positive experience?')]"
      ]
     },
     "execution_count": 5,
     "metadata": {},
     "output_type": "execute_result"
    }
   ],
   "source": [
    "from langchain.prompts import (\n",
    "    PromptTemplate,\n",
    "    SystemMessagePromptTemplate,\n",
    "    HumanMessagePromptTemplate,\n",
    "    ChatPromptTemplate,\n",
    ")\n",
    "\n",
    "review_system_template_str = \"\"\"Your job is to use patient\n",
    "reviews to answer questions about their experience at a\n",
    "hospital. Use the following context to answer questions.\n",
    "Be as detailed as possible, but don't make up any information\n",
    "that's not from the context. If you don't know an answer, say\n",
    "you don't know.\n",
    "\n",
    "{context}\n",
    "\"\"\"\n",
    "\n",
    "review_system_prompt = SystemMessagePromptTemplate(\n",
    "    prompt=PromptTemplate(\n",
    "        input_variables=[\"context\"], template=review_system_template_str\n",
    "    )\n",
    ")\n",
    "\n",
    "review_human_prompt = HumanMessagePromptTemplate(\n",
    "    prompt=PromptTemplate(\n",
    "        input_variables=[\"question\"], template=\"{question}\"\n",
    "    )\n",
    ")\n",
    "\n",
    "messages = [review_system_prompt, review_human_prompt]\n",
    "review_prompt_template = ChatPromptTemplate(\n",
    "    input_variables=[\"context\", \"question\"],\n",
    "    messages=messages,\n",
    ")\n",
    "context = \"I had a great stay!\"\n",
    "question = \"Did anyone have a positive experience?\"\n",
    "\n",
    "review_prompt_template.format_messages(context=context, question=question)"
   ]
  },
  {
   "cell_type": "markdown",
   "id": "310aa6bb-7a84-411c-93ac-71d8c9601076",
   "metadata": {},
   "source": [
    "## test code part 2"
   ]
  },
  {
   "cell_type": "code",
   "execution_count": 1,
   "id": "54bbac65-f0ea-4ca4-9dbc-7159c57a7828",
   "metadata": {},
   "outputs": [
    {
     "data": {
      "text/plain": [
       "AIMessage(content='Yes, one patient mentioned that they had a great stay at the hospital, indicating a positive experience.', response_metadata={'token_usage': {'completion_tokens': 20, 'prompt_tokens': 83, 'total_tokens': 103}, 'model_name': 'gpt-4o-mini', 'system_fingerprint': 'fp_48196bc67a', 'finish_reason': 'stop', 'logprobs': None}, id='run-9e440f5f-9648-454b-b1c7-1f4e99719b65-0')"
      ]
     },
     "execution_count": 1,
     "metadata": {},
     "output_type": "execute_result"
    }
   ],
   "source": [
    "from langchain_intro.chatbot import review_chain\n",
    "\n",
    "context = \"I had a great stay!\"\n",
    "question = \"Did anyone have a positive experience?\"\n",
    "\n",
    "review_chain.invoke({\"context\": context, \"question\": question})"
   ]
  },
  {
   "cell_type": "markdown",
   "id": "86a59f0a-c027-4959-a54e-fc472f3a809f",
   "metadata": {},
   "source": [
    "## test code 3"
   ]
  },
  {
   "cell_type": "code",
   "execution_count": 9,
   "id": "86c34602-0f71-4821-885b-c987fdd0839a",
   "metadata": {},
   "outputs": [
    {
     "name": "stdout",
     "output_type": "stream",
     "text": [
      "I encountered some communication issues during my stay. The medical staff seemed disorganized, and it led to confusion about my treatment plan.\n",
      "I encountered some issues with the nursing staff's communication. It seemed like there was a lack of coordination, leading to confusion about my medication schedule and treatment plan.\n",
      "The hospital staff were friendly and attentive, making my stay more pleasant. However, there were occasional lapses in communication that caused confusion about my treatment plan.\n"
     ]
    }
   ],
   "source": [
    "import dotenv\n",
    "from langchain_elasticsearch import ElasticsearchStore\n",
    "from langchain_openai import OpenAIEmbeddings\n",
    "from langchain_core.documents import Document\n",
    "from langchain_huggingface.embeddings import HuggingFaceEmbeddings\n",
    "from elasticsearch import Elasticsearch\n",
    "\n",
    "dotenv.load_dotenv()\n",
    "\n",
    "# Configuration for Elasticsearch\n",
    "ELASTICSEARCH_URL = \"http://localhost:9200\"\n",
    "INDEX_NAME = \"reviews_index\"\n",
    "\n",
    "# Defining the embedding model\n",
    "embeddings = HuggingFaceEmbeddings()\n",
    "\n",
    "# Set up ElasticsearchStore\n",
    "reviews_vector_db = ElasticsearchStore(\n",
    "    es_url=ELASTICSEARCH_URL,\n",
    "    index_name=INDEX_NAME,\n",
    "    embedding=embeddings,\n",
    "    es_user=\"elastic\",\n",
    "    es_password=\"changeme\",  # Replace with your password if security is enabled\n",
    "\n",
    ")\n",
    "\n",
    "\n",
    "# If you have documents to add, you can add them like this\n",
    "# Assume `documents` is a list of Document objects\n",
    "# documents = [Document(page_content=\"Some content\", metadata={\"source\": \"some source\"})]\n",
    "# reviews_vector_db.add_documents(documents)\n",
    "\n",
    "# Question to search\n",
    "question = \"\"\"Has anyone complained about communication with the hospital staff?\"\"\"\n",
    "\n",
    "# Perform similarity search\n",
    "relevant_docs = reviews_vector_db.similarity_search(query=question, k=3)\n",
    "\n",
    "# Display the relevant documents\n",
    "print(relevant_docs[0].page_content)\n",
    "print(relevant_docs[1].page_content)\n",
    "print(relevant_docs[2].page_content)\n"
   ]
  },
  {
   "cell_type": "markdown",
   "id": "bd8e530a-82d3-41f5-9d94-5f443c67656d",
   "metadata": {},
   "source": [
    "## test code 4"
   ]
  },
  {
   "cell_type": "code",
   "execution_count": 1,
   "id": "f1beacb4-ce27-4b51-bace-53b23744a3c1",
   "metadata": {},
   "outputs": [
    {
     "name": "stderr",
     "output_type": "stream",
     "text": [
      "/usr/local/python/3.10.13/lib/python3.10/site-packages/sentence_transformers/cross_encoder/CrossEncoder.py:11: TqdmWarning: IProgress not found. Please update jupyter and ipywidgets. See https://ipywidgets.readthedocs.io/en/stable/user_install.html\n",
      "  from tqdm.autonotebook import tqdm, trange\n"
     ]
    }
   ],
   "source": [
    "from langchain_openai import ChatOpenAI\n",
    "from langchain.prompts import (\n",
    "    PromptTemplate,\n",
    "    SystemMessagePromptTemplate,\n",
    "    HumanMessagePromptTemplate,\n",
    "    ChatPromptTemplate,\n",
    ")\n",
    "from langchain_core.output_parsers import StrOutputParser\n",
    "from langchain_elasticsearch import ElasticsearchStore\n",
    "from langchain_huggingface.embeddings import HuggingFaceEmbeddings\n",
    "from langchain.schema.runnable import RunnablePassthrough\n",
    "from langchain.agents import (\n",
    "    create_openai_functions_agent,\n",
    "    AgentExecutor,\n",
    ")\n",
    "from langchain.tools.base import StructuredTool\n",
    "from langchain import hub\n",
    "from langchain_intro.tools import get_current_wait_time\n",
    "from pydantic import BaseModel\n",
    "import dotenv\n",
    "import warnings\n",
    "\n",
    "warnings.filterwarnings(\"ignore\", category=FutureWarning)\n",
    "\n",
    "dotenv.load_dotenv(encoding='utf-8')\n",
    "\n",
    "# Define the prompt templates for the Reviews tool\n",
    "review_template_str = \"\"\"Your job is to use patient\n",
    "reviews to answer questions about their experience at\n",
    "a hospital. Use the following context to answer questions.\n",
    "Be as detailed as possible, but don't make up any information\n",
    "that's not from the context. If you don't know an answer, say\n",
    "you don't know.\n",
    "\n",
    "{context}\n",
    "\"\"\"\n",
    "\n",
    "review_system_prompt = SystemMessagePromptTemplate(\n",
    "    prompt=PromptTemplate(\n",
    "        input_variables=[\"context\"],\n",
    "        template=review_template_str,\n",
    "    )\n",
    ")\n",
    "\n",
    "review_human_prompt = HumanMessagePromptTemplate(\n",
    "    prompt=PromptTemplate(\n",
    "        input_variables=[\"question\"],\n",
    "        template=\"{question}\",\n",
    "    )\n",
    ")\n",
    "\n",
    "messages = [review_system_prompt, review_human_prompt]\n",
    "\n",
    "review_prompt_template = ChatPromptTemplate(\n",
    "    input_variables=[\"context\", \"question\"],\n",
    "    messages=messages,\n",
    ")\n",
    "\n",
    "chat_model = ChatOpenAI(model=\"gpt-4o-mini\", temperature=0)\n",
    "\n",
    "output_parser = StrOutputParser()\n",
    "\n",
    "# Elasticsearch connection details\n",
    "ELASTICSEARCH_URL = \"http://localhost:9200\"\n",
    "INDEX_NAME = \"reviews_index\"\n",
    "\n",
    "# Initialize ElasticsearchStore\n",
    "elastic_vector_search = ElasticsearchStore(\n",
    "    es_url=ELASTICSEARCH_URL,\n",
    "    index_name=INDEX_NAME,\n",
    "    embedding= HuggingFaceEmbeddings(),\n",
    ")\n",
    "\n"
   ]
  },
  {
   "cell_type": "code",
   "execution_count": 2,
   "id": "9ad8c919-c647-4404-8dc2-698c0a79d12d",
   "metadata": {},
   "outputs": [],
   "source": [
    "# Create a retriever for reviews\n",
    "from operator import itemgetter\n",
    "reviews_retriever = elastic_vector_search.as_retriever(k=10)\n",
    "\n",
    "review_chain = (\n",
    "    {\n",
    "        \"context\": itemgetter(\"question\") | reviews_retriever,\n",
    "        \"question\": itemgetter(\"question\")\n",
    "    }\n",
    "    #{\"context\": reviews_retriever, \"question\": RunnablePassthrough()}\n",
    "    | review_prompt_template\n",
    "    | chat_model\n",
    "    | StrOutputParser()\n",
    ")\n",
    "\n"
   ]
  },
  {
   "cell_type": "code",
   "execution_count": 4,
   "id": "b359b296-7f33-4a20-81f9-bf6cb0aa91f3",
   "metadata": {},
   "outputs": [
    {
     "data": {
      "text/plain": [
       "{'title': 'RunnableParallel<context,question>Input',\n",
       " 'type': 'object',\n",
       " 'properties': {'question': {'title': 'Question'}}}"
      ]
     },
     "execution_count": 4,
     "metadata": {},
     "output_type": "execute_result"
    }
   ],
   "source": [
    "review_chain.input_schema.schema()"
   ]
  },
  {
   "cell_type": "code",
   "execution_count": 5,
   "id": "2b149c24-fe55-49f2-a61a-9c9bab4f2070",
   "metadata": {},
   "outputs": [
    {
     "name": "stderr",
     "output_type": "stream",
     "text": [
      "/usr/local/python/3.10.13/lib/python3.10/site-packages/langchain_core/_api/beta_decorator.py:87: LangChainBetaWarning: This API is in beta and may change in the future.\n",
      "  warn_beta(\n",
      "/usr/local/python/3.10.13/lib/python3.10/site-packages/langchain_core/_api/beta_decorator.py:87: LangChainBetaWarning: The function `loads` is in beta. It is actively being worked on, so the API may change.\n",
      "  warn_beta(\n"
     ]
    }
   ],
   "source": [
    "\n",
    "class WaitTimeInput(BaseModel):\n",
    "    hospital_name: str\n",
    "\n",
    "waits_tool = StructuredTool.from_function(\n",
    "    name=\"Waits\",\n",
    "    func=get_current_wait_time,\n",
    "    description=\"\"\"Use when asked about current wait times\n",
    "    at a specific hospital. This tool can only get the current\n",
    "    wait time at a hospital and does not have any information about\n",
    "    aggregate or historical wait times. This tool returns wait times in\n",
    "    minutes. Do not pass the word \"hospital\" as input,\n",
    "    only the hospital name itself. For instance, if the question is\n",
    "    \"What is the wait time at hospital A?\", the input should be \"A\".\n",
    "    \"\"\",\n",
    "    args_schema=WaitTimeInput,\n",
    ")\n",
    "\n",
    "review_tool = review_chain.as_tool(\n",
    "    name=\"Reviews\",\n",
    "    description=\"\"\"Handles structured inputs for review processing.\n",
    "    Useful when you need to answer questions about patient reviews or experiences at the hospital.\n",
    "    Not useful for answering questions about specific visit details such as payer, billing, treatment, diagnosis,\n",
    "    chief complaint, hospital, or physician information. Pass the entire question as input to the tool.\n",
    "    For instance, if the question is \"What do patients think about the triage system?\", the input should be\n",
    "    \"What do patients think about the triage system?\".\n",
    "    \"\"\",\n",
    ")\n",
    "\n",
    "# Update tools list with the corrected `Waits` tool\n",
    "chat_tools = [review_tool, waits_tool]\n",
    "\n",
    "# Set up the agent using the defined tools\n",
    "hospital_agent_prompt = hub.pull(\"hwchase17/openai-functions-agent\")\n",
    "\n",
    "agent_chat_model = ChatOpenAI(\n",
    "    model=\"gpt-4o-mini\",\n",
    "    temperature=0,\n",
    ")\n",
    "\n",
    "hospital_agent = create_openai_functions_agent(\n",
    "    llm=agent_chat_model,\n",
    "    prompt=hospital_agent_prompt,\n",
    "    tools=chat_tools,\n",
    ")\n",
    "\n",
    "# Create the agent executor\n",
    "hospital_agent_executor = AgentExecutor(\n",
    "    agent=hospital_agent,\n",
    "    tools=chat_tools,\n",
    "    return_intermediate_steps=True,\n",
    "    verbose=True,\n",
    ")\n"
   ]
  },
  {
   "cell_type": "code",
   "execution_count": 6,
   "id": "c594a0a0-e185-4f19-9ffc-e3e19806be3f",
   "metadata": {},
   "outputs": [
    {
     "name": "stdout",
     "output_type": "stream",
     "text": [
      "\n",
      "\n",
      "\u001b[1m> Entering new AgentExecutor chain...\u001b[0m\n",
      "\u001b[32;1m\u001b[1;3m\n",
      "Invoking: `Reviews` with `{'question': 'What have patients said about their comfort at the hospital?'}`\n",
      "\n",
      "\n",
      "\u001b[0m\u001b[36;1m\u001b[1;3mPatients have expressed mixed feelings about their comfort at the hospital. \n",
      "\n",
      "1. Douglas Crawford, who visited Rose Inc, mentioned that while the medical care was adequate, the lack of privacy in shared rooms made it challenging for him to rest and recover.\n",
      "\n",
      "2. Nancy Collins, a patient at Richardson-Powell, noted that although the doctors were knowledgeable and the hospital environment was clean, the outdated and uncomfortable beds negatively impacted her overall comfort.\n",
      "\n",
      "3. Justin Robertson, who stayed at Vaughn PLC, reported that while the medical care was exceptional, the higher-than-expected noise level in the ward affected his ability to rest.\n",
      "\n",
      "4. Miranda Frey, a patient at Brown-Golden, appreciated the dedication of the hospital staff to patient care but found the uncomfortable beds made it difficult for her to get a good night's sleep during her stay.\n",
      "\n",
      "Overall, patients have highlighted issues with bed comfort and noise levels, which have affected their overall comfort during their hospital stays.\u001b[0m\u001b[32;1m\u001b[1;3mPatients have shared mixed experiences regarding their comfort at the hospital:\n",
      "\n",
      "1. **Douglas Crawford** (Rose Inc) mentioned that while the medical care was adequate, the lack of privacy in shared rooms made it difficult for him to rest and recover.\n",
      "\n",
      "2. **Nancy Collins** (Richardson-Powell) noted that although the doctors were knowledgeable and the hospital environment was clean, the outdated and uncomfortable beds negatively impacted her overall comfort.\n",
      "\n",
      "3. **Justin Robertson** (Vaughn PLC) reported that while the medical care was exceptional, the higher-than-expected noise level in the ward affected his ability to rest.\n",
      "\n",
      "4. **Miranda Frey** (Brown-Golden) appreciated the dedication of the hospital staff to patient care but found the uncomfortable beds made it hard for her to get a good night's sleep during her stay.\n",
      "\n",
      "Overall, patients have highlighted issues with bed comfort and noise levels, which have significantly affected their comfort during their hospital stays.\u001b[0m\n",
      "\n",
      "\u001b[1m> Finished chain.\u001b[0m\n"
     ]
    },
    {
     "data": {
      "text/plain": [
       "{'input': 'What have patients said about their comfort at the hospital?',\n",
       " 'output': \"Patients have shared mixed experiences regarding their comfort at the hospital:\\n\\n1. **Douglas Crawford** (Rose Inc) mentioned that while the medical care was adequate, the lack of privacy in shared rooms made it difficult for him to rest and recover.\\n\\n2. **Nancy Collins** (Richardson-Powell) noted that although the doctors were knowledgeable and the hospital environment was clean, the outdated and uncomfortable beds negatively impacted her overall comfort.\\n\\n3. **Justin Robertson** (Vaughn PLC) reported that while the medical care was exceptional, the higher-than-expected noise level in the ward affected his ability to rest.\\n\\n4. **Miranda Frey** (Brown-Golden) appreciated the dedication of the hospital staff to patient care but found the uncomfortable beds made it hard for her to get a good night's sleep during her stay.\\n\\nOverall, patients have highlighted issues with bed comfort and noise levels, which have significantly affected their comfort during their hospital stays.\",\n",
       " 'intermediate_steps': [(AgentActionMessageLog(tool='Reviews', tool_input={'question': 'What have patients said about their comfort at the hospital?'}, log=\"\\nInvoking: `Reviews` with `{'question': 'What have patients said about their comfort at the hospital?'}`\\n\\n\\n\", message_log=[AIMessageChunk(content='', additional_kwargs={'function_call': {'arguments': '{\"question\":\"What have patients said about their comfort at the hospital?\"}', 'name': 'Reviews'}}, response_metadata={'finish_reason': 'function_call'}, id='run-70719907-4cea-4c56-99c0-9b41308290b2')]),\n",
       "   \"Patients have expressed mixed feelings about their comfort at the hospital. \\n\\n1. Douglas Crawford, who visited Rose Inc, mentioned that while the medical care was adequate, the lack of privacy in shared rooms made it challenging for him to rest and recover.\\n\\n2. Nancy Collins, a patient at Richardson-Powell, noted that although the doctors were knowledgeable and the hospital environment was clean, the outdated and uncomfortable beds negatively impacted her overall comfort.\\n\\n3. Justin Robertson, who stayed at Vaughn PLC, reported that while the medical care was exceptional, the higher-than-expected noise level in the ward affected his ability to rest.\\n\\n4. Miranda Frey, a patient at Brown-Golden, appreciated the dedication of the hospital staff to patient care but found the uncomfortable beds made it difficult for her to get a good night's sleep during her stay.\\n\\nOverall, patients have highlighted issues with bed comfort and noise levels, which have affected their overall comfort during their hospital stays.\")]}"
      ]
     },
     "execution_count": 6,
     "metadata": {},
     "output_type": "execute_result"
    }
   ],
   "source": [
    "hospital_agent_executor.invoke(\n",
    "    {\"input\": \"What have patients said about their comfort at the hospital?\"}\n",
    ")"
   ]
  },
  {
   "cell_type": "code",
   "execution_count": 7,
   "id": "3a2e1aca-9e30-4d28-8165-40df14634948",
   "metadata": {},
   "outputs": [
    {
     "name": "stdout",
     "output_type": "stream",
     "text": [
      "\n",
      "\n",
      "\u001b[1m> Entering new AgentExecutor chain...\u001b[0m\n",
      "\u001b[32;1m\u001b[1;3m\n",
      "Invoking: `Waits` with `{'hospital_name': 'C'}`\n",
      "\n",
      "\n",
      "\u001b[0m\u001b[33;1m\u001b[1;3m4596\u001b[0m\u001b[32;1m\u001b[1;3mThe current wait time at hospital C is 4596 minutes.\u001b[0m\n",
      "\n",
      "\u001b[1m> Finished chain.\u001b[0m\n"
     ]
    },
    {
     "data": {
      "text/plain": [
       "{'input': 'What is the current wait time at hospital C?',\n",
       " 'output': 'The current wait time at hospital C is 4596 minutes.',\n",
       " 'intermediate_steps': [(AgentActionMessageLog(tool='Waits', tool_input={'hospital_name': 'C'}, log=\"\\nInvoking: `Waits` with `{'hospital_name': 'C'}`\\n\\n\\n\", message_log=[AIMessageChunk(content='', additional_kwargs={'function_call': {'arguments': '{\"hospital_name\":\"C\"}', 'name': 'Waits'}}, response_metadata={'finish_reason': 'function_call'}, id='run-730eaa4e-ce5f-4f5c-8af5-fd0e1b9f1928')]),\n",
       "   4596)]}"
      ]
     },
     "execution_count": 7,
     "metadata": {},
     "output_type": "execute_result"
    }
   ],
   "source": [
    "hospital_agent_executor.invoke(\n",
    "    {\"input\": \"What is the current wait time at hospital C?\"}\n",
    ")"
   ]
  },
  {
   "cell_type": "code",
   "execution_count": null,
   "id": "0e639e50-f1e2-45cd-9e02-4fa82cc6e8f4",
   "metadata": {},
   "outputs": [],
   "source": []
  }
 ],
 "metadata": {
  "kernelspec": {
   "display_name": "Python 3 (ipykernel)",
   "language": "python",
   "name": "python3"
  },
  "language_info": {
   "codemirror_mode": {
    "name": "ipython",
    "version": 3
   },
   "file_extension": ".py",
   "mimetype": "text/x-python",
   "name": "python",
   "nbconvert_exporter": "python",
   "pygments_lexer": "ipython3",
   "version": "3.10.13"
  }
 },
 "nbformat": 4,
 "nbformat_minor": 5
}
