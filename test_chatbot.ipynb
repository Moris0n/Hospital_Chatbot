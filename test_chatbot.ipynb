{
 "cells": [
  {
   "cell_type": "markdown",
   "id": "2aa2d508-b934-496e-8856-d40d8478a601",
   "metadata": {},
   "source": [
    "## test code part 1"
   ]
  },
  {
   "cell_type": "code",
   "execution_count": 1,
   "id": "da660043-1bc5-4e89-b21a-d500d57ffa0a",
   "metadata": {},
   "outputs": [],
   "source": [
    "from langchain.schema.messages import HumanMessage, SystemMessage\n",
    "from langchain_intro.chatbot import chat_model"
   ]
  },
  {
   "cell_type": "code",
   "execution_count": 2,
   "id": "125a0698-a539-4a2d-96d1-edac52a9e9b4",
   "metadata": {},
   "outputs": [],
   "source": [
    "messages = [\n",
    "    SystemMessage(\n",
    "        content=\"\"\"You're an assistant knowledgeable about\n",
    "        healthcare. Only answer healthcare-related questions.\"\"\"\n",
    "    ),\n",
    "    HumanMessage(content=\"What is Medicaid managed care?\"),\n",
    "]"
   ]
  },
  {
   "cell_type": "code",
   "execution_count": 3,
   "id": "589e8d17-63e6-4cc6-947f-a9373b994915",
   "metadata": {},
   "outputs": [
    {
     "data": {
      "text/plain": [
       "AIMessage(content='Medicaid managed care is a system in which state Medicaid programs contract with private health insurance companies to provide healthcare services to Medicaid beneficiaries. In this model, the managed care organizations (MCOs) are responsible for coordinating and delivering a range of healthcare services, including preventive care, hospital services, and specialty care, to enrolled members.\\n\\nKey features of Medicaid managed care include:\\n\\n1. **Care Coordination**: MCOs help coordinate care among various providers to ensure that beneficiaries receive appropriate and timely services.\\n\\n2. **Cost Control**: By managing the care provided to beneficiaries, MCOs aim to control costs and improve efficiency in the delivery of healthcare services.\\n\\n3. **Access to Services**: Beneficiaries typically have a network of providers from which to choose, and MCOs may offer additional services beyond what traditional Medicaid covers.\\n\\n4. **Quality Improvement**: Many MCOs implement programs to monitor and improve the quality of care provided to their members.\\n\\n5. **Risk Sharing**: MCOs assume financial risk for the care of their members, meaning they are incentivized to provide cost-effective care while maintaining quality.\\n\\nMedicaid managed care is designed to improve health outcomes for beneficiaries while managing costs for state Medicaid programs. Each state has its own rules and structures for Medicaid managed care, leading to variations in how the program is implemented.', response_metadata={'token_usage': {'completion_tokens': 271, 'prompt_tokens': 32, 'total_tokens': 303}, 'model_name': 'gpt-4o-mini', 'system_fingerprint': 'fp_48196bc67a', 'finish_reason': 'stop', 'logprobs': None}, id='run-b9f47800-1204-4c02-81f9-e63377c00648-0')"
      ]
     },
     "execution_count": 3,
     "metadata": {},
     "output_type": "execute_result"
    }
   ],
   "source": [
    "chat_model.invoke(messages)"
   ]
  },
  {
   "cell_type": "code",
   "execution_count": 4,
   "id": "057877d1-7784-4b3c-a386-8bbf05bc6deb",
   "metadata": {},
   "outputs": [
    {
     "data": {
      "text/plain": [
       "\"Human: Your job is to use patient\\nreviews to answer questions about their experience at a hospital.\\nUse the following context to answer questions. Be as detailed\\nas possible, but don't make up any information that's not\\nfrom the context. If you don't know an answer, say you don't know.\\n\\nI had a great stay!\\n\\nDid anyone have a positive experience?\\n\""
      ]
     },
     "execution_count": 4,
     "metadata": {},
     "output_type": "execute_result"
    }
   ],
   "source": [
    "from langchain.prompts import ChatPromptTemplate\n",
    "\n",
    "review_template_str = \"\"\"Your job is to use patient\n",
    "reviews to answer questions about their experience at a hospital.\n",
    "Use the following context to answer questions. Be as detailed\n",
    "as possible, but don't make up any information that's not\n",
    "from the context. If you don't know an answer, say you don't know.\n",
    "\n",
    "{context}\n",
    "\n",
    "{question}\n",
    "\"\"\"\n",
    "\n",
    "review_template = ChatPromptTemplate.from_template(review_template_str)\n",
    "\n",
    "context = \"I had a great stay!\"\n",
    "question = \"Did anyone have a positive experience?\"\n",
    "\n",
    "review_template.format(context=context, question=question)"
   ]
  },
  {
   "cell_type": "code",
   "execution_count": 5,
   "id": "e9e1947c-74b4-482f-b93e-27b500fb0e31",
   "metadata": {},
   "outputs": [
    {
     "data": {
      "text/plain": [
       "[SystemMessage(content=\"Your job is to use patient\\nreviews to answer questions about their experience at a\\nhospital. Use the following context to answer questions.\\nBe as detailed as possible, but don't make up any information\\nthat's not from the context. If you don't know an answer, say\\nyou don't know.\\n\\nI had a great stay!\\n\"),\n",
       " HumanMessage(content='Did anyone have a positive experience?')]"
      ]
     },
     "execution_count": 5,
     "metadata": {},
     "output_type": "execute_result"
    }
   ],
   "source": [
    "from langchain.prompts import (\n",
    "    PromptTemplate,\n",
    "    SystemMessagePromptTemplate,\n",
    "    HumanMessagePromptTemplate,\n",
    "    ChatPromptTemplate,\n",
    ")\n",
    "\n",
    "review_system_template_str = \"\"\"Your job is to use patient\n",
    "reviews to answer questions about their experience at a\n",
    "hospital. Use the following context to answer questions.\n",
    "Be as detailed as possible, but don't make up any information\n",
    "that's not from the context. If you don't know an answer, say\n",
    "you don't know.\n",
    "\n",
    "{context}\n",
    "\"\"\"\n",
    "\n",
    "review_system_prompt = SystemMessagePromptTemplate(\n",
    "    prompt=PromptTemplate(\n",
    "        input_variables=[\"context\"], template=review_system_template_str\n",
    "    )\n",
    ")\n",
    "\n",
    "review_human_prompt = HumanMessagePromptTemplate(\n",
    "    prompt=PromptTemplate(\n",
    "        input_variables=[\"question\"], template=\"{question}\"\n",
    "    )\n",
    ")\n",
    "\n",
    "messages = [review_system_prompt, review_human_prompt]\n",
    "review_prompt_template = ChatPromptTemplate(\n",
    "    input_variables=[\"context\", \"question\"],\n",
    "    messages=messages,\n",
    ")\n",
    "context = \"I had a great stay!\"\n",
    "question = \"Did anyone have a positive experience?\"\n",
    "\n",
    "review_prompt_template.format_messages(context=context, question=question)"
   ]
  },
  {
   "cell_type": "markdown",
   "id": "310aa6bb-7a84-411c-93ac-71d8c9601076",
   "metadata": {},
   "source": [
    "## test code part 2"
   ]
  },
  {
   "cell_type": "code",
   "execution_count": 1,
   "id": "54bbac65-f0ea-4ca4-9dbc-7159c57a7828",
   "metadata": {},
   "outputs": [
    {
     "data": {
      "text/plain": [
       "AIMessage(content='Yes, one patient mentioned that they had a great stay at the hospital, indicating a positive experience.', response_metadata={'token_usage': {'completion_tokens': 20, 'prompt_tokens': 83, 'total_tokens': 103}, 'model_name': 'gpt-4o-mini', 'system_fingerprint': 'fp_48196bc67a', 'finish_reason': 'stop', 'logprobs': None}, id='run-9e440f5f-9648-454b-b1c7-1f4e99719b65-0')"
      ]
     },
     "execution_count": 1,
     "metadata": {},
     "output_type": "execute_result"
    }
   ],
   "source": [
    "from langchain_intro.chatbot import review_chain\n",
    "\n",
    "context = \"I had a great stay!\"\n",
    "question = \"Did anyone have a positive experience?\"\n",
    "\n",
    "review_chain.invoke({\"context\": context, \"question\": question})"
   ]
  },
  {
   "cell_type": "markdown",
   "id": "86a59f0a-c027-4959-a54e-fc472f3a809f",
   "metadata": {},
   "source": [
    "## test code 3"
   ]
  },
  {
   "cell_type": "code",
   "execution_count": 9,
   "id": "86c34602-0f71-4821-885b-c987fdd0839a",
   "metadata": {},
   "outputs": [
    {
     "name": "stdout",
     "output_type": "stream",
     "text": [
      "I encountered some communication issues during my stay. The medical staff seemed disorganized, and it led to confusion about my treatment plan.\n",
      "I encountered some issues with the nursing staff's communication. It seemed like there was a lack of coordination, leading to confusion about my medication schedule and treatment plan.\n",
      "The hospital staff were friendly and attentive, making my stay more pleasant. However, there were occasional lapses in communication that caused confusion about my treatment plan.\n"
     ]
    }
   ],
   "source": [
    "import dotenv\n",
    "from langchain_elasticsearch import ElasticsearchStore\n",
    "from langchain_openai import OpenAIEmbeddings\n",
    "from langchain_core.documents import Document\n",
    "from langchain_huggingface.embeddings import HuggingFaceEmbeddings\n",
    "from elasticsearch import Elasticsearch\n",
    "\n",
    "dotenv.load_dotenv()\n",
    "\n",
    "# Configuration for Elasticsearch\n",
    "ELASTICSEARCH_URL = \"http://localhost:9200\"\n",
    "INDEX_NAME = \"reviews_index\"\n",
    "\n",
    "# Defining the embedding model\n",
    "embeddings = HuggingFaceEmbeddings()\n",
    "\n",
    "# Set up ElasticsearchStore\n",
    "reviews_vector_db = ElasticsearchStore(\n",
    "    es_url=ELASTICSEARCH_URL,\n",
    "    index_name=INDEX_NAME,\n",
    "    embedding=embeddings,\n",
    "    es_user=\"elastic\",\n",
    "    es_password=\"changeme\",  # Replace with your password if security is enabled\n",
    "\n",
    ")\n",
    "\n",
    "\n",
    "# If you have documents to add, you can add them like this\n",
    "# Assume `documents` is a list of Document objects\n",
    "# documents = [Document(page_content=\"Some content\", metadata={\"source\": \"some source\"})]\n",
    "# reviews_vector_db.add_documents(documents)\n",
    "\n",
    "# Question to search\n",
    "question = \"\"\"Has anyone complained about communication with the hospital staff?\"\"\"\n",
    "\n",
    "# Perform similarity search\n",
    "relevant_docs = reviews_vector_db.similarity_search(query=question, k=3)\n",
    "\n",
    "# Display the relevant documents\n",
    "print(relevant_docs[0].page_content)\n",
    "print(relevant_docs[1].page_content)\n",
    "print(relevant_docs[2].page_content)\n"
   ]
  },
  {
   "cell_type": "markdown",
   "id": "bd8e530a-82d3-41f5-9d94-5f443c67656d",
   "metadata": {},
   "source": [
    "## test code 4"
   ]
  },
  {
   "cell_type": "code",
   "execution_count": 1,
   "id": "0e639e50-f1e2-45cd-9e02-4fa82cc6e8f4",
   "metadata": {},
   "outputs": [
    {
     "name": "stdout",
     "output_type": "stream",
     "text": [
      "(30, 3)\n"
     ]
    }
   ],
   "source": [
    "import polars as pl\n",
    "\n",
    "HOSPITAL_DATA_PATH = \"data/hospitals.csv\"\n",
    "data_hospitals = pl.read_csv(HOSPITAL_DATA_PATH)\n",
    "\n",
    "print(data_hospitals.shape)"
   ]
  },
  {
   "cell_type": "code",
   "execution_count": 2,
   "id": "732e6c8a-0a07-42a1-b359-bf671a7cb426",
   "metadata": {},
   "outputs": [
    {
     "data": {
      "text/html": [
       "<div><style>\n",
       ".dataframe > thead > tr,\n",
       ".dataframe > tbody > tr {\n",
       "  text-align: right;\n",
       "  white-space: pre-wrap;\n",
       "}\n",
       "</style>\n",
       "<small>shape: (5, 3)</small><table border=\"1\" class=\"dataframe\"><thead><tr><th>hospital_id</th><th>hospital_name</th><th>hospital_state</th></tr><tr><td>i64</td><td>str</td><td>str</td></tr></thead><tbody><tr><td>0</td><td>&quot;Wallace-Hamilton&quot;</td><td>&quot;CO&quot;</td></tr><tr><td>1</td><td>&quot;Burke, Griffin and Cooper&quot;</td><td>&quot;NC&quot;</td></tr><tr><td>2</td><td>&quot;Walton LLC&quot;</td><td>&quot;FL&quot;</td></tr><tr><td>3</td><td>&quot;Garcia Ltd&quot;</td><td>&quot;NC&quot;</td></tr><tr><td>4</td><td>&quot;Jones, Brown and Murray&quot;</td><td>&quot;NC&quot;</td></tr></tbody></table></div>"
      ],
      "text/plain": [
       "shape: (5, 3)\n",
       "┌─────────────┬───────────────────────────┬────────────────┐\n",
       "│ hospital_id ┆ hospital_name             ┆ hospital_state │\n",
       "│ ---         ┆ ---                       ┆ ---            │\n",
       "│ i64         ┆ str                       ┆ str            │\n",
       "╞═════════════╪═══════════════════════════╪════════════════╡\n",
       "│ 0           ┆ Wallace-Hamilton          ┆ CO             │\n",
       "│ 1           ┆ Burke, Griffin and Cooper ┆ NC             │\n",
       "│ 2           ┆ Walton LLC                ┆ FL             │\n",
       "│ 3           ┆ Garcia Ltd                ┆ NC             │\n",
       "│ 4           ┆ Jones, Brown and Murray   ┆ NC             │\n",
       "└─────────────┴───────────────────────────┴────────────────┘"
      ]
     },
     "execution_count": 2,
     "metadata": {},
     "output_type": "execute_result"
    }
   ],
   "source": [
    "data_hospitals.head()"
   ]
  },
  {
   "cell_type": "code",
   "execution_count": 3,
   "id": "be9690d7-72a7-4fcc-9936-f42f4f82814b",
   "metadata": {},
   "outputs": [
    {
     "name": "stdout",
     "output_type": "stream",
     "text": [
      "(500, 6)\n"
     ]
    }
   ],
   "source": [
    "PHYSICIAN_DATA_PATH = \"data/physicians.csv\"\n",
    "data_physician = pl.read_csv(PHYSICIAN_DATA_PATH)\n",
    "\n",
    "print(data_physician.shape)"
   ]
  },
  {
   "cell_type": "code",
   "execution_count": 4,
   "id": "0f16f31f-69cc-440d-9b3d-b2bbbb5cf1dc",
   "metadata": {},
   "outputs": [
    {
     "data": {
      "text/html": [
       "<div><style>\n",
       ".dataframe > thead > tr,\n",
       ".dataframe > tbody > tr {\n",
       "  text-align: right;\n",
       "  white-space: pre-wrap;\n",
       "}\n",
       "</style>\n",
       "<small>shape: (5, 6)</small><table border=\"1\" class=\"dataframe\"><thead><tr><th>physician_name</th><th>physician_id</th><th>physician_dob</th><th>physician_grad_year</th><th>medical_school</th><th>salary</th></tr><tr><td>str</td><td>i64</td><td>str</td><td>str</td><td>str</td><td>f64</td></tr></thead><tbody><tr><td>&quot;Joseph Johnson&quot;</td><td>0</td><td>&quot;1970-02-22&quot;</td><td>&quot;2000-02-22&quot;</td><td>&quot;Johns Hopkins University Schoo…</td><td>309534.155076</td></tr><tr><td>&quot;Jason Williams&quot;</td><td>1</td><td>&quot;1982-12-22&quot;</td><td>&quot;2012-12-22&quot;</td><td>&quot;Mayo Clinic Alix School of Med…</td><td>281114.503559</td></tr><tr><td>&quot;Jesse Gordon&quot;</td><td>2</td><td>&quot;1959-06-03&quot;</td><td>&quot;1989-06-03&quot;</td><td>&quot;David Geffen School of Medicin…</td><td>305845.584636</td></tr><tr><td>&quot;Heather Smith&quot;</td><td>3</td><td>&quot;1965-06-15&quot;</td><td>&quot;1995-06-15&quot;</td><td>&quot;NYU Grossman Medical School&quot;</td><td>295239.766689</td></tr><tr><td>&quot;Kayla Hunter DDS&quot;</td><td>4</td><td>&quot;1978-10-19&quot;</td><td>&quot;2008-10-19&quot;</td><td>&quot;David Geffen School of Medicin…</td><td>298751.355201</td></tr></tbody></table></div>"
      ],
      "text/plain": [
       "shape: (5, 6)\n",
       "┌─────────────────┬──────────────┬───────────────┬────────────────┬────────────────┬───────────────┐\n",
       "│ physician_name  ┆ physician_id ┆ physician_dob ┆ physician_grad ┆ medical_school ┆ salary        │\n",
       "│ ---             ┆ ---          ┆ ---           ┆ _year          ┆ ---            ┆ ---           │\n",
       "│ str             ┆ i64          ┆ str           ┆ ---            ┆ str            ┆ f64           │\n",
       "│                 ┆              ┆               ┆ str            ┆                ┆               │\n",
       "╞═════════════════╪══════════════╪═══════════════╪════════════════╪════════════════╪═══════════════╡\n",
       "│ Joseph Johnson  ┆ 0            ┆ 1970-02-22    ┆ 2000-02-22     ┆ Johns Hopkins  ┆ 309534.155076 │\n",
       "│                 ┆              ┆               ┆                ┆ University     ┆               │\n",
       "│                 ┆              ┆               ┆                ┆ Schoo…         ┆               │\n",
       "│ Jason Williams  ┆ 1            ┆ 1982-12-22    ┆ 2012-12-22     ┆ Mayo Clinic    ┆ 281114.503559 │\n",
       "│                 ┆              ┆               ┆                ┆ Alix School of ┆               │\n",
       "│                 ┆              ┆               ┆                ┆ Med…           ┆               │\n",
       "│ Jesse Gordon    ┆ 2            ┆ 1959-06-03    ┆ 1989-06-03     ┆ David Geffen   ┆ 305845.584636 │\n",
       "│                 ┆              ┆               ┆                ┆ School of      ┆               │\n",
       "│                 ┆              ┆               ┆                ┆ Medicin…       ┆               │\n",
       "│ Heather Smith   ┆ 3            ┆ 1965-06-15    ┆ 1995-06-15     ┆ NYU Grossman   ┆ 295239.766689 │\n",
       "│                 ┆              ┆               ┆                ┆ Medical School ┆               │\n",
       "│ Kayla Hunter    ┆ 4            ┆ 1978-10-19    ┆ 2008-10-19     ┆ David Geffen   ┆ 298751.355201 │\n",
       "│ DDS             ┆              ┆               ┆                ┆ School of      ┆               │\n",
       "│                 ┆              ┆               ┆                ┆ Medicin…       ┆               │\n",
       "└─────────────────┴──────────────┴───────────────┴────────────────┴────────────────┴───────────────┘"
      ]
     },
     "execution_count": 4,
     "metadata": {},
     "output_type": "execute_result"
    }
   ],
   "source": [
    "data_physician.head()"
   ]
  },
  {
   "cell_type": "code",
   "execution_count": 5,
   "id": "ab103cf1-e449-46a0-ab6c-405fcfecae13",
   "metadata": {},
   "outputs": [
    {
     "name": "stdout",
     "output_type": "stream",
     "text": [
      "(1005, 6)\n"
     ]
    }
   ],
   "source": [
    "REVIEWS_DATA_PATH = \"data/reviews.csv\"\n",
    "data_reviews = pl.read_csv(REVIEWS_DATA_PATH)\n",
    "\n",
    "print(data_reviews.shape)"
   ]
  },
  {
   "cell_type": "code",
   "execution_count": 6,
   "id": "488b08bd-0e37-4490-bdae-a7f4a28e5c45",
   "metadata": {},
   "outputs": [
    {
     "data": {
      "text/html": [
       "<div><style>\n",
       ".dataframe > thead > tr,\n",
       ".dataframe > tbody > tr {\n",
       "  text-align: right;\n",
       "  white-space: pre-wrap;\n",
       "}\n",
       "</style>\n",
       "<small>shape: (5, 6)</small><table border=\"1\" class=\"dataframe\"><thead><tr><th>review_id</th><th>visit_id</th><th>review</th><th>physician_name</th><th>hospital_name</th><th>patient_name</th></tr><tr><td>i64</td><td>i64</td><td>str</td><td>str</td><td>str</td><td>str</td></tr></thead><tbody><tr><td>0</td><td>6997</td><td>&quot;The medical staff at the hospi…</td><td>&quot;Laura Brown&quot;</td><td>&quot;Wallace-Hamilton&quot;</td><td>&quot;Christy Johnson&quot;</td></tr><tr><td>9</td><td>8138</td><td>&quot;The hospital&#x27;s commitment to p…</td><td>&quot;Steven Watson&quot;</td><td>&quot;Wallace-Hamilton&quot;</td><td>&quot;Anna Frazier&quot;</td></tr><tr><td>11</td><td>680</td><td>&quot;The hospital&#x27;s commitment to p…</td><td>&quot;Chase Mcpherson Jr.&quot;</td><td>&quot;Wallace-Hamilton&quot;</td><td>&quot;Abigail Mitchell&quot;</td></tr><tr><td>892</td><td>9846</td><td>&quot;I had a positive experience ov…</td><td>&quot;Jason Martinez&quot;</td><td>&quot;Wallace-Hamilton&quot;</td><td>&quot;Kimberly Rivas&quot;</td></tr><tr><td>822</td><td>7397</td><td>&quot;The medical team at the hospit…</td><td>&quot;Chelsey Davis&quot;</td><td>&quot;Wallace-Hamilton&quot;</td><td>&quot;Catherine Yang&quot;</td></tr></tbody></table></div>"
      ],
      "text/plain": [
       "shape: (5, 6)\n",
       "┌───────────┬──────────┬──────────────────┬──────────────────┬──────────────────┬──────────────────┐\n",
       "│ review_id ┆ visit_id ┆ review           ┆ physician_name   ┆ hospital_name    ┆ patient_name     │\n",
       "│ ---       ┆ ---      ┆ ---              ┆ ---              ┆ ---              ┆ ---              │\n",
       "│ i64       ┆ i64      ┆ str              ┆ str              ┆ str              ┆ str              │\n",
       "╞═══════════╪══════════╪══════════════════╪══════════════════╪══════════════════╪══════════════════╡\n",
       "│ 0         ┆ 6997     ┆ The medical      ┆ Laura Brown      ┆ Wallace-Hamilton ┆ Christy Johnson  │\n",
       "│           ┆          ┆ staff at the     ┆                  ┆                  ┆                  │\n",
       "│           ┆          ┆ hospi…           ┆                  ┆                  ┆                  │\n",
       "│ 9         ┆ 8138     ┆ The hospital's   ┆ Steven Watson    ┆ Wallace-Hamilton ┆ Anna Frazier     │\n",
       "│           ┆          ┆ commitment to p… ┆                  ┆                  ┆                  │\n",
       "│ 11        ┆ 680      ┆ The hospital's   ┆ Chase Mcpherson  ┆ Wallace-Hamilton ┆ Abigail Mitchell │\n",
       "│           ┆          ┆ commitment to p… ┆ Jr.              ┆                  ┆                  │\n",
       "│ 892       ┆ 9846     ┆ I had a positive ┆ Jason Martinez   ┆ Wallace-Hamilton ┆ Kimberly Rivas   │\n",
       "│           ┆          ┆ experience ov…   ┆                  ┆                  ┆                  │\n",
       "│ 822       ┆ 7397     ┆ The medical team ┆ Chelsey Davis    ┆ Wallace-Hamilton ┆ Catherine Yang   │\n",
       "│           ┆          ┆ at the hospit…   ┆                  ┆                  ┆                  │\n",
       "└───────────┴──────────┴──────────────────┴──────────────────┴──────────────────┴──────────────────┘"
      ]
     },
     "execution_count": 6,
     "metadata": {},
     "output_type": "execute_result"
    }
   ],
   "source": [
    "data_reviews.head()"
   ]
  },
  {
   "cell_type": "code",
   "execution_count": 7,
   "id": "ca080778-68f9-4364-bb97-6876ef781fa9",
   "metadata": {},
   "outputs": [
    {
     "name": "stdout",
     "output_type": "stream",
     "text": [
      "(9998, 15)\n"
     ]
    }
   ],
   "source": [
    "VISITS_DATA_PATH = \"data/visits.csv\"\n",
    "data_visits = pl.read_csv(VISITS_DATA_PATH)\n",
    "\n",
    "print(data_visits.shape)"
   ]
  },
  {
   "cell_type": "code",
   "execution_count": 8,
   "id": "8b99c829-983a-455a-b6e9-6ae457deb07b",
   "metadata": {},
   "outputs": [
    {
     "data": {
      "text/html": [
       "<div><style>\n",
       ".dataframe > thead > tr,\n",
       ".dataframe > tbody > tr {\n",
       "  text-align: right;\n",
       "  white-space: pre-wrap;\n",
       "}\n",
       "</style>\n",
       "<small>shape: (5, 15)</small><table border=\"1\" class=\"dataframe\"><thead><tr><th>patient_id</th><th>date_of_admission</th><th>billing_amount</th><th>room_number</th><th>admission_type</th><th>discharge_date</th><th>test_results</th><th>visit_id</th><th>physician_id</th><th>payer_id</th><th>hospital_id</th><th>chief_complaint</th><th>treatment_description</th><th>primary_diagnosis</th><th>visit_status</th></tr><tr><td>i64</td><td>str</td><td>f64</td><td>i64</td><td>str</td><td>str</td><td>str</td><td>i64</td><td>i64</td><td>i64</td><td>i64</td><td>str</td><td>str</td><td>str</td><td>str</td></tr></thead><tbody><tr><td>0</td><td>&quot;2022-11-17&quot;</td><td>37490.983364</td><td>146</td><td>&quot;Elective&quot;</td><td>&quot;2022-12-01&quot;</td><td>&quot;Inconclusive&quot;</td><td>0</td><td>102</td><td>1</td><td>0</td><td>null</td><td>null</td><td>null</td><td>&quot;DISCHARGED&quot;</td></tr><tr><td>1</td><td>&quot;2023-06-01&quot;</td><td>47304.064845</td><td>404</td><td>&quot;Emergency&quot;</td><td>null</td><td>&quot;Normal&quot;</td><td>1</td><td>435</td><td>4</td><td>5</td><td>null</td><td>null</td><td>null</td><td>&quot;OPEN&quot;</td></tr><tr><td>2</td><td>&quot;2019-01-09&quot;</td><td>36874.896997</td><td>292</td><td>&quot;Emergency&quot;</td><td>&quot;2019-02-08&quot;</td><td>&quot;Normal&quot;</td><td>2</td><td>348</td><td>2</td><td>6</td><td>null</td><td>null</td><td>null</td><td>&quot;DISCHARGED&quot;</td></tr><tr><td>3</td><td>&quot;2020-05-02&quot;</td><td>23303.322092</td><td>480</td><td>&quot;Urgent&quot;</td><td>&quot;2020-05-03&quot;</td><td>&quot;Abnormal&quot;</td><td>3</td><td>270</td><td>4</td><td>15</td><td>null</td><td>null</td><td>null</td><td>&quot;DISCHARGED&quot;</td></tr><tr><td>4</td><td>&quot;2021-07-09&quot;</td><td>18086.344184</td><td>477</td><td>&quot;Urgent&quot;</td><td>&quot;2021-08-02&quot;</td><td>&quot;Normal&quot;</td><td>4</td><td>106</td><td>2</td><td>29</td><td>&quot;Persistent cough and shortness…</td><td>&quot;Prescribed a combination of in…</td><td>&quot;J45.909 - Unspecified asthma, …</td><td>&quot;DISCHARGED&quot;</td></tr></tbody></table></div>"
      ],
      "text/plain": [
       "shape: (5, 15)\n",
       "┌───────────┬───────────┬───────────┬───────────┬───┬───────────┬───────────┬───────────┬──────────┐\n",
       "│ patient_i ┆ date_of_a ┆ billing_a ┆ room_numb ┆ … ┆ chief_com ┆ treatment ┆ primary_d ┆ visit_st │\n",
       "│ d         ┆ dmission  ┆ mount     ┆ er        ┆   ┆ plaint    ┆ _descript ┆ iagnosis  ┆ atus     │\n",
       "│ ---       ┆ ---       ┆ ---       ┆ ---       ┆   ┆ ---       ┆ ion       ┆ ---       ┆ ---      │\n",
       "│ i64       ┆ str       ┆ f64       ┆ i64       ┆   ┆ str       ┆ ---       ┆ str       ┆ str      │\n",
       "│           ┆           ┆           ┆           ┆   ┆           ┆ str       ┆           ┆          │\n",
       "╞═══════════╪═══════════╪═══════════╪═══════════╪═══╪═══════════╪═══════════╪═══════════╪══════════╡\n",
       "│ 0         ┆ 2022-11-1 ┆ 37490.983 ┆ 146       ┆ … ┆ null      ┆ null      ┆ null      ┆ DISCHARG │\n",
       "│           ┆ 7         ┆ 364       ┆           ┆   ┆           ┆           ┆           ┆ ED       │\n",
       "│ 1         ┆ 2023-06-0 ┆ 47304.064 ┆ 404       ┆ … ┆ null      ┆ null      ┆ null      ┆ OPEN     │\n",
       "│           ┆ 1         ┆ 845       ┆           ┆   ┆           ┆           ┆           ┆          │\n",
       "│ 2         ┆ 2019-01-0 ┆ 36874.896 ┆ 292       ┆ … ┆ null      ┆ null      ┆ null      ┆ DISCHARG │\n",
       "│           ┆ 9         ┆ 997       ┆           ┆   ┆           ┆           ┆           ┆ ED       │\n",
       "│ 3         ┆ 2020-05-0 ┆ 23303.322 ┆ 480       ┆ … ┆ null      ┆ null      ┆ null      ┆ DISCHARG │\n",
       "│           ┆ 2         ┆ 092       ┆           ┆   ┆           ┆           ┆           ┆ ED       │\n",
       "│ 4         ┆ 2021-07-0 ┆ 18086.344 ┆ 477       ┆ … ┆ Persisten ┆ Prescribe ┆ J45.909 - ┆ DISCHARG │\n",
       "│           ┆ 9         ┆ 184       ┆           ┆   ┆ t cough   ┆ d a combi ┆ Unspecifi ┆ ED       │\n",
       "│           ┆           ┆           ┆           ┆   ┆ and short ┆ nation of ┆ ed        ┆          │\n",
       "│           ┆           ┆           ┆           ┆   ┆ ness…     ┆ in…       ┆ asthma, … ┆          │\n",
       "└───────────┴───────────┴───────────┴───────────┴───┴───────────┴───────────┴───────────┴──────────┘"
      ]
     },
     "execution_count": 8,
     "metadata": {},
     "output_type": "execute_result"
    }
   ],
   "source": [
    "data_visits.head()"
   ]
  },
  {
   "cell_type": "markdown",
   "id": "b27ead9c-ed5d-43a2-8dee-dcebee926bf0",
   "metadata": {},
   "source": [
    "* when a visit is still open, the discharged_date will be missing.\n",
    "* chief_complaint, treatment_description, and primary_diagnosis might be missing for a visit. "
   ]
  },
  {
   "cell_type": "markdown",
   "id": "34a2cdb0-1ab5-47e9-834a-db92ab03f187",
   "metadata": {},
   "source": [
    "## A Brief Overview of Graph Databases\n",
    "Graph databases, such as Neo4j, are databases designed to represent and process data stored as a graph.\n",
    "Graph data consists of **nodes, edges or relationships, and properties**.  \n",
    "- Nodes represent entities\n",
    "- Relationships \\ Edges connect entities\n",
    "- Properties provide additional metadata about nodes and relationships."
   ]
  },
  {
   "cell_type": "code",
   "execution_count": null,
   "id": "d9c6ed83-51ae-43de-9c15-23002c0fbd0e",
   "metadata": {},
   "outputs": [],
   "source": []
  }
 ],
 "metadata": {
  "kernelspec": {
   "display_name": "Python 3 (ipykernel)",
   "language": "python",
   "name": "python3"
  },
  "language_info": {
   "codemirror_mode": {
    "name": "ipython",
    "version": 3
   },
   "file_extension": ".py",
   "mimetype": "text/x-python",
   "name": "python",
   "nbconvert_exporter": "python",
   "pygments_lexer": "ipython3",
   "version": "3.10.13"
  }
 },
 "nbformat": 4,
 "nbformat_minor": 5
}
